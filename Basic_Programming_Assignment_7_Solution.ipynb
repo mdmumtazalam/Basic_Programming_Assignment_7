{
  "cells": [
    {
      "cell_type": "markdown",
      "id": "5dd810fe",
      "metadata": {
        "id": "5dd810fe"
      },
      "source": [
        "# Basic_Programming_Assignment_7 Solution :-\n",
        "SUBMITTED BY : MD MUMTAZ ALAM"
      ]
    },
    {
      "cell_type": "markdown",
      "id": "80cc1691",
      "metadata": {
        "id": "80cc1691"
      },
      "source": [
        "## 1. Write a Python Program to find sum of Array ?"
      ]
    },
    {
      "cell_type": "code",
      "execution_count": null,
      "id": "2ba7d693",
      "metadata": {
        "id": "2ba7d693",
        "outputId": "f23d07be-e216-4d97-f65e-3a55570ca5d7"
      },
      "outputs": [
        {
          "name": "stdout",
          "output_type": "stream",
          "text": [
            "Enter the Array: 2,4,6,8,9\n",
            "The sum of (2, 4, 6, 8, 9) is 29\n"
          ]
        }
      ],
      "source": [
        "def sumOfArray():\n",
        "    in_arr = eval(input(\"Enter the Array: \"))\n",
        "    print(f'The sum of {in_arr} is {sum(in_arr)}')\n",
        "\n",
        "sumOfArray()"
      ]
    },
    {
      "cell_type": "markdown",
      "id": "45a09d26",
      "metadata": {
        "id": "45a09d26"
      },
      "source": [
        "## 2. Write a Python Program to find Largest element in an Array ?"
      ]
    },
    {
      "cell_type": "code",
      "execution_count": null,
      "id": "9cd4a897",
      "metadata": {
        "id": "9cd4a897",
        "outputId": "becd6b60-263d-4a94-d595-c9aaf055a470"
      },
      "outputs": [
        {
          "name": "stdout",
          "output_type": "stream",
          "text": [
            "Enter the Array: 4,7,9,14,21\n",
            "The Largest Element in (4, 7, 9, 14, 21) is 21\n"
          ]
        }
      ],
      "source": [
        "def largestElement():\n",
        "    in_arr = eval(input(\"Enter the Array: \"))\n",
        "    print(f\"The Largest Element in {in_arr} is {sorted(in_arr, reverse=True)[0]}\")\n",
        "    \n",
        "largestElement()"
      ]
    },
    {
      "cell_type": "markdown",
      "id": "625b72d3",
      "metadata": {
        "id": "625b72d3"
      },
      "source": [
        "## 3. Write a Python Program for array rotation ?"
      ]
    },
    {
      "cell_type": "code",
      "execution_count": null,
      "id": "5039f352",
      "metadata": {
        "id": "5039f352",
        "outputId": "7d2add6c-6fcf-4422-ca3c-9846c268d85a"
      },
      "outputs": [
        {
          "name": "stdout",
          "output_type": "stream",
          "text": [
            "Enter the Array: 1,2,3,4,5\n",
            "The Reverse of Array (1, 2, 3, 4, 5) is (5, 4, 3, 2, 1)\n"
          ]
        }
      ],
      "source": [
        "def reverseOfArray():\n",
        "    in_arr = eval(input(\"Enter the Array: \"))\n",
        "    print(f\"The Reverse of Array {in_arr} is {in_arr[::-1]}\")\n",
        "    \n",
        "reverseOfArray()"
      ]
    },
    {
      "cell_type": "markdown",
      "id": "9bb561da",
      "metadata": {
        "id": "9bb561da"
      },
      "source": [
        "## 4. Write a Python Program to Split the array and add the first part to the end ?"
      ]
    },
    {
      "cell_type": "code",
      "execution_count": null,
      "id": "2376d664",
      "metadata": {
        "id": "2376d664",
        "outputId": "524815e2-be7a-43a3-a51f-e55430e06b4f"
      },
      "outputs": [
        {
          "name": "stdout",
          "output_type": "stream",
          "text": [
            "Enter the Array: 12,5,8,3,9\n",
            "The Sum of First and Last Elements of Array (12, 5, 8, 3, 9) is 21\n"
          ]
        }
      ],
      "source": [
        "def sumOfSplits():\n",
        "    in_arr = eval(input(\"Enter the Array: \"))\n",
        "    print(f\"The Sum of First and Last Elements of Array {in_arr} is {in_arr[0]+in_arr[-1]}\")\n",
        "    \n",
        "sumOfSplits()"
      ]
    },
    {
      "cell_type": "markdown",
      "id": "e18b873a",
      "metadata": {
        "id": "e18b873a"
      },
      "source": [
        "## 5. Write a Python Program to check if given array is Monotonic ?"
      ]
    },
    {
      "cell_type": "code",
      "execution_count": null,
      "id": "2a2cb281",
      "metadata": {
        "id": "2a2cb281",
        "outputId": "628ac8f2-18f4-47e2-aaa8-2ba3b7fa6c26"
      },
      "outputs": [
        {
          "name": "stdout",
          "output_type": "stream",
          "text": [
            "Enter the Array: 1,2,3,4,5,6\n",
            "Array (1, 2, 3, 4, 5, 6) is Monotonic\n",
            "Enter the Array: 1,3,5,6,5\n",
            "Array (1, 3, 5, 6, 5) is Not Monotonic\n"
          ]
        }
      ],
      "source": [
        "def checkMonotonic():\n",
        "    in_arr = eval(input(\"Enter the Array: \"))\n",
        "    if(all(in_arr[i]<=in_arr[i+1] for i in range(len(in_arr)-1)) or all(in_arr[i]>=in_arr[i+1] for i in range(len(in_arr)-1))):\n",
        "        print(f'Array {in_arr} is Monotonic')\n",
        "    else:\n",
        "        print(f'Array {in_arr} is Not Monotonic')\n",
        "\n",
        "checkMonotonic()\n",
        "checkMonotonic()"
      ]
    },
    {
      "cell_type": "markdown",
      "id": "8e824578",
      "metadata": {
        "id": "8e824578"
      },
      "source": [
        "# Thank You"
      ]
    }
  ],
  "metadata": {
    "kernelspec": {
      "display_name": "Python 3 (ipykernel)",
      "language": "python",
      "name": "python3"
    },
    "language_info": {
      "codemirror_mode": {
        "name": "ipython",
        "version": 3
      },
      "file_extension": ".py",
      "mimetype": "text/x-python",
      "name": "python",
      "nbconvert_exporter": "python",
      "pygments_lexer": "ipython3",
      "version": "3.9.7"
    },
    "colab": {
      "provenance": []
    }
  },
  "nbformat": 4,
  "nbformat_minor": 5
}